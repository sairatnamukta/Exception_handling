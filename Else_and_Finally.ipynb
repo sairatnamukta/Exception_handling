{
  "nbformat": 4,
  "nbformat_minor": 0,
  "metadata": {
    "colab": {
      "provenance": [],
      "authorship_tag": "ABX9TyPO9LJJkPjyOTeoHG5eMXoR",
      "include_colab_link": true
    },
    "kernelspec": {
      "name": "python3",
      "display_name": "Python 3"
    },
    "language_info": {
      "name": "python"
    }
  },
  "cells": [
    {
      "cell_type": "markdown",
      "metadata": {
        "id": "view-in-github",
        "colab_type": "text"
      },
      "source": [
        "<a href=\"https://colab.research.google.com/github/sairatnamukta/Exception_handling/blob/main/Else_and_Finally.ipynb\" target=\"_parent\"><img src=\"https://colab.research.google.com/assets/colab-badge.svg\" alt=\"Open In Colab\"/></a>"
      ]
    },
    {
      "cell_type": "code",
      "source": [
        "class Negativezeromodelyear(Exception):\n",
        "  def __init__(self,value,message=\"Model year cant be greater or equal to current year\"):\n",
        "    self.value=value\n",
        "    self.message=message\n",
        "    super().__init__(self.message)\n",
        "  def __str__(self):\n",
        "    return f\"{self.message}---->>>{self.value}\"\n",
        "\n",
        "class Carmodelyearstring(Exception):\n",
        "  def __init__(self,value,message=\"year is string ,give only number (integer values)\"):\n",
        "    self.value=value\n",
        "    self.message=message\n",
        "    super().__init__(self.message)\n",
        "\n",
        "  def __str__(self):\n",
        "    return f\"{self.message}---------->>{self.value}\""
      ],
      "metadata": {
        "id": "dBY7oCbvM2IB"
      },
      "execution_count": 2,
      "outputs": []
    },
    {
      "cell_type": "code",
      "source": [
        "class vehicle:\n",
        "    def __init__(self,make,model,fuel):\n",
        "      self.make=make\n",
        "      self.model=model\n",
        "      self.fuel=fuel\n",
        "      self.value=None\n",
        "\n",
        "    def get_value(self):\n",
        "      year=2022\n",
        "      try:\n",
        "        if type(self.make)==str:\n",
        "          status=\"custom error\"\n",
        "          raise Carmodelyearstring(self.make)\n",
        "        elif self.make>=year:\n",
        "              status=\"custom error\"\n",
        "              raise Negativezeromodelyear(self.make)\n",
        "        else:\n",
        "          self.age=year-(self.make)\n",
        "          self.value=1000*(1/self.age)\n",
        "          status=\"sucess\"\n",
        "      except TypeError :\n",
        "        status=\"inbuilt error\"\n",
        "        self.age=year-int(self.make)\n",
        "        self.value=1000*(1/self.age)\n",
        "      else:\n",
        "        print(\"There is no exception\")\n",
        "\n",
        "      finally:\n",
        "        if status==\"custom error\":\n",
        "          print (\"code has custom exception ,please rectify this\")\n",
        "        elif status==\"inbuilt error \":\n",
        "          print(\"code has inbuilt error , please rectify this\")\n",
        "        else:\n",
        "          print(\"value without exception\",self.value)\n",
        "\n",
        "\n",
        "      "
      ],
      "metadata": {
        "id": "vzgW-w9XXXoH"
      },
      "execution_count": 4,
      "outputs": []
    },
    {
      "cell_type": "code",
      "source": [
        "b=vehicle(2019,\"tesla\",\"h2\")\n",
        "b.get_value()"
      ],
      "metadata": {
        "colab": {
          "base_uri": "https://localhost:8080/"
        },
        "id": "nKcyX3bln3Z3",
        "outputId": "e22a1f30-774f-4455-9d95-fd1301a4bcb5"
      },
      "execution_count": 5,
      "outputs": [
        {
          "output_type": "stream",
          "name": "stdout",
          "text": [
            "There is no exception\n",
            "value without exception 333.3333333333333\n"
          ]
        }
      ]
    },
    {
      "cell_type": "code",
      "source": [
        "c=vehicle(2022,\"tesla\",\"h2o\")\n",
        "c.get_value()"
      ],
      "metadata": {
        "colab": {
          "base_uri": "https://localhost:8080/",
          "height": 322
        },
        "id": "6WdKUPLzoB-I",
        "outputId": "d6d56c78-ff95-4f73-d02f-73ba066f367c"
      },
      "execution_count": 6,
      "outputs": [
        {
          "output_type": "stream",
          "name": "stdout",
          "text": [
            "code has custom exception ,please rectify this\n"
          ]
        },
        {
          "output_type": "error",
          "ename": "Negativezeromodelyear",
          "evalue": "ignored",
          "traceback": [
            "\u001b[0;31m---------------------------------------------------------------------------\u001b[0m",
            "\u001b[0;31mNegativezeromodelyear\u001b[0m                     Traceback (most recent call last)",
            "\u001b[0;32m<ipython-input-6-a00f91507ed6>\u001b[0m in \u001b[0;36m<module>\u001b[0;34m\u001b[0m\n\u001b[1;32m      1\u001b[0m \u001b[0mc\u001b[0m\u001b[0;34m=\u001b[0m\u001b[0mvehicle\u001b[0m\u001b[0;34m(\u001b[0m\u001b[0;36m2022\u001b[0m\u001b[0;34m,\u001b[0m\u001b[0;34m\"tesla\"\u001b[0m\u001b[0;34m,\u001b[0m\u001b[0;34m\"h2o\"\u001b[0m\u001b[0;34m)\u001b[0m\u001b[0;34m\u001b[0m\u001b[0;34m\u001b[0m\u001b[0m\n\u001b[0;32m----> 2\u001b[0;31m \u001b[0mc\u001b[0m\u001b[0;34m.\u001b[0m\u001b[0mget_value\u001b[0m\u001b[0;34m(\u001b[0m\u001b[0;34m)\u001b[0m\u001b[0;34m\u001b[0m\u001b[0;34m\u001b[0m\u001b[0m\n\u001b[0m",
            "\u001b[0;32m<ipython-input-4-a47ecad3ecfc>\u001b[0m in \u001b[0;36mget_value\u001b[0;34m(self)\u001b[0m\n\u001b[1;32m     14\u001b[0m         \u001b[0;32melif\u001b[0m \u001b[0mself\u001b[0m\u001b[0;34m.\u001b[0m\u001b[0mmake\u001b[0m\u001b[0;34m>=\u001b[0m\u001b[0myear\u001b[0m\u001b[0;34m:\u001b[0m\u001b[0;34m\u001b[0m\u001b[0;34m\u001b[0m\u001b[0m\n\u001b[1;32m     15\u001b[0m               \u001b[0mstatus\u001b[0m\u001b[0;34m=\u001b[0m\u001b[0;34m\"custom error\"\u001b[0m\u001b[0;34m\u001b[0m\u001b[0;34m\u001b[0m\u001b[0m\n\u001b[0;32m---> 16\u001b[0;31m               \u001b[0;32mraise\u001b[0m \u001b[0mNegativezeromodelyear\u001b[0m\u001b[0;34m(\u001b[0m\u001b[0mself\u001b[0m\u001b[0;34m.\u001b[0m\u001b[0mmake\u001b[0m\u001b[0;34m)\u001b[0m\u001b[0;34m\u001b[0m\u001b[0;34m\u001b[0m\u001b[0m\n\u001b[0m\u001b[1;32m     17\u001b[0m         \u001b[0;32melse\u001b[0m\u001b[0;34m:\u001b[0m\u001b[0;34m\u001b[0m\u001b[0;34m\u001b[0m\u001b[0m\n\u001b[1;32m     18\u001b[0m           \u001b[0mself\u001b[0m\u001b[0;34m.\u001b[0m\u001b[0mage\u001b[0m\u001b[0;34m=\u001b[0m\u001b[0myear\u001b[0m\u001b[0;34m-\u001b[0m\u001b[0;34m(\u001b[0m\u001b[0mself\u001b[0m\u001b[0;34m.\u001b[0m\u001b[0mmake\u001b[0m\u001b[0;34m)\u001b[0m\u001b[0;34m\u001b[0m\u001b[0;34m\u001b[0m\u001b[0m\n",
            "\u001b[0;31mNegativezeromodelyear\u001b[0m: Model year cant be greater or equal to current year---->>>2022"
          ]
        }
      ]
    },
    {
      "cell_type": "code",
      "source": [
        "a=vehicle(\"2022\",\"tata\",\"diesel\")\n",
        "a.get_value()"
      ],
      "metadata": {
        "colab": {
          "base_uri": "https://localhost:8080/",
          "height": 322
        },
        "id": "ZZVpbRsNokZg",
        "outputId": "1faa0edf-962d-4e59-ea4e-9a987f63a73a"
      },
      "execution_count": 7,
      "outputs": [
        {
          "output_type": "stream",
          "name": "stdout",
          "text": [
            "code has custom exception ,please rectify this\n"
          ]
        },
        {
          "output_type": "error",
          "ename": "Carmodelyearstring",
          "evalue": "ignored",
          "traceback": [
            "\u001b[0;31m---------------------------------------------------------------------------\u001b[0m",
            "\u001b[0;31mCarmodelyearstring\u001b[0m                        Traceback (most recent call last)",
            "\u001b[0;32m<ipython-input-7-62e204ee5515>\u001b[0m in \u001b[0;36m<module>\u001b[0;34m\u001b[0m\n\u001b[1;32m      1\u001b[0m \u001b[0ma\u001b[0m\u001b[0;34m=\u001b[0m\u001b[0mvehicle\u001b[0m\u001b[0;34m(\u001b[0m\u001b[0;34m\"2022\"\u001b[0m\u001b[0;34m,\u001b[0m\u001b[0;34m\"tata\"\u001b[0m\u001b[0;34m,\u001b[0m\u001b[0;34m\"diesel\"\u001b[0m\u001b[0;34m)\u001b[0m\u001b[0;34m\u001b[0m\u001b[0;34m\u001b[0m\u001b[0m\n\u001b[0;32m----> 2\u001b[0;31m \u001b[0ma\u001b[0m\u001b[0;34m.\u001b[0m\u001b[0mget_value\u001b[0m\u001b[0;34m(\u001b[0m\u001b[0;34m)\u001b[0m\u001b[0;34m\u001b[0m\u001b[0;34m\u001b[0m\u001b[0m\n\u001b[0m",
            "\u001b[0;32m<ipython-input-4-a47ecad3ecfc>\u001b[0m in \u001b[0;36mget_value\u001b[0;34m(self)\u001b[0m\n\u001b[1;32m     11\u001b[0m         \u001b[0;32mif\u001b[0m \u001b[0mtype\u001b[0m\u001b[0;34m(\u001b[0m\u001b[0mself\u001b[0m\u001b[0;34m.\u001b[0m\u001b[0mmake\u001b[0m\u001b[0;34m)\u001b[0m\u001b[0;34m==\u001b[0m\u001b[0mstr\u001b[0m\u001b[0;34m:\u001b[0m\u001b[0;34m\u001b[0m\u001b[0;34m\u001b[0m\u001b[0m\n\u001b[1;32m     12\u001b[0m           \u001b[0mstatus\u001b[0m\u001b[0;34m=\u001b[0m\u001b[0;34m\"custom error\"\u001b[0m\u001b[0;34m\u001b[0m\u001b[0;34m\u001b[0m\u001b[0m\n\u001b[0;32m---> 13\u001b[0;31m           \u001b[0;32mraise\u001b[0m \u001b[0mCarmodelyearstring\u001b[0m\u001b[0;34m(\u001b[0m\u001b[0mself\u001b[0m\u001b[0;34m.\u001b[0m\u001b[0mmake\u001b[0m\u001b[0;34m)\u001b[0m\u001b[0;34m\u001b[0m\u001b[0;34m\u001b[0m\u001b[0m\n\u001b[0m\u001b[1;32m     14\u001b[0m         \u001b[0;32melif\u001b[0m \u001b[0mself\u001b[0m\u001b[0;34m.\u001b[0m\u001b[0mmake\u001b[0m\u001b[0;34m>=\u001b[0m\u001b[0myear\u001b[0m\u001b[0;34m:\u001b[0m\u001b[0;34m\u001b[0m\u001b[0;34m\u001b[0m\u001b[0m\n\u001b[1;32m     15\u001b[0m               \u001b[0mstatus\u001b[0m\u001b[0;34m=\u001b[0m\u001b[0;34m\"custom error\"\u001b[0m\u001b[0;34m\u001b[0m\u001b[0;34m\u001b[0m\u001b[0m\n",
            "\u001b[0;31mCarmodelyearstring\u001b[0m: year is string ,give only number (integer values)---------->>2022"
          ]
        }
      ]
    },
    {
      "cell_type": "code",
      "source": [
        "'2019'+2019\n"
      ],
      "metadata": {
        "colab": {
          "base_uri": "https://localhost:8080/",
          "height": 166
        },
        "id": "vGim7QMipShO",
        "outputId": "dc9c3657-b2d0-4b71-f7ac-f56db46ca392"
      },
      "execution_count": 8,
      "outputs": [
        {
          "output_type": "error",
          "ename": "TypeError",
          "evalue": "ignored",
          "traceback": [
            "\u001b[0;31m---------------------------------------------------------------------------\u001b[0m",
            "\u001b[0;31mTypeError\u001b[0m                                 Traceback (most recent call last)",
            "\u001b[0;32m<ipython-input-8-278548373d2d>\u001b[0m in \u001b[0;36m<module>\u001b[0;34m\u001b[0m\n\u001b[0;32m----> 1\u001b[0;31m \u001b[0;34m'2019'\u001b[0m\u001b[0;34m+\u001b[0m\u001b[0;36m2019\u001b[0m\u001b[0;34m\u001b[0m\u001b[0;34m\u001b[0m\u001b[0m\n\u001b[0m",
            "\u001b[0;31mTypeError\u001b[0m: can only concatenate str (not \"int\") to str"
          ]
        }
      ]
    },
    {
      "cell_type": "code",
      "source": [
        "class ZeroDenominatorError(ZeroDivisionError):\n",
        "    pass\n",
        "try:\n",
        "    a = 10\n",
        "    b = 0\n",
        "    if(b==0):\n",
        "        raise ZeroDenominatorError()\n",
        "    c = a/b\n",
        "except ZeroDivisionError:\n",
        "    print('Zero Division Error occured',end= ' ')\n",
        "except ZeroDenominatorError:\n",
        "    print('Zero Denominator Error occured',end = ' ')\n",
        "else:\n",
        "    print('else works')"
      ],
      "metadata": {
        "colab": {
          "base_uri": "https://localhost:8080/"
        },
        "id": "LElk2I6MpWXF",
        "outputId": "ba211f58-b3af-46ec-a838-d2522cb0d9b2"
      },
      "execution_count": 10,
      "outputs": [
        {
          "output_type": "stream",
          "name": "stdout",
          "text": [
            "Zero Division Error occured "
          ]
        }
      ]
    },
    {
      "cell_type": "code",
      "source": [
        "class ZeroDenominatorError(ZeroDivisionError):\n",
        "    pass\n",
        "try:\n",
        "    a = 10\n",
        "    b = 5\n",
        "    if(b==0):\n",
        "        raise ZeroDenominatorError()\n",
        "    c = a/b\n",
        "except ZeroDivisionError:\n",
        "    print('Zero Division Error occured',end= ' ')\n",
        "except ZeroDenominatorError:\n",
        "    print('Zero Denominator Error occured',end = ' ')\n",
        "else:\n",
        "    print('else works')"
      ],
      "metadata": {
        "colab": {
          "base_uri": "https://localhost:8080/"
        },
        "id": "VXMi0WjKp6wy",
        "outputId": "d81d6179-5cec-4f1b-d3ad-0bd7a04856b3"
      },
      "execution_count": 12,
      "outputs": [
        {
          "output_type": "stream",
          "name": "stdout",
          "text": [
            "else works\n"
          ]
        }
      ]
    },
    {
      "cell_type": "code",
      "source": [
        "class ZeroDenominatorError(ZeroDivisionError):\n",
        "    pass\n",
        "try:\n",
        "    a = 10\n",
        "    b = 5\n",
        "    if(b==0):\n",
        "        raise ZeroDenominatorError()\n",
        "    c = a/b\n",
        "except ZeroDivisionError:\n",
        "    print('Zero Division Error occured',end=' ')\n",
        "except ZeroDenominatorError:\n",
        "    print('Zero Denominator Error occured',end = ' ')\n",
        "else:\n",
        "    print('else works',end=' ')\n",
        "finally:\n",
        "    print('finally works')"
      ],
      "metadata": {
        "colab": {
          "base_uri": "https://localhost:8080/"
        },
        "id": "pb_sn0i7qlKb",
        "outputId": "53e9efe3-57b3-487e-af1f-5ccc099af2b8"
      },
      "execution_count": 14,
      "outputs": [
        {
          "output_type": "stream",
          "name": "stdout",
          "text": [
            "else works finally works\n"
          ]
        }
      ]
    },
    {
      "cell_type": "code",
      "source": [],
      "metadata": {
        "id": "oPEWb-Kpqlzk"
      },
      "execution_count": null,
      "outputs": []
    }
  ]
}