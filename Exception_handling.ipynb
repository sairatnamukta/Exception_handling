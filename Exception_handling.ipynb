{
  "nbformat": 4,
  "nbformat_minor": 0,
  "metadata": {
    "colab": {
      "provenance": [],
      "authorship_tag": "ABX9TyMHvB/GTUmkyWR0p87E50vb",
      "include_colab_link": true
    },
    "kernelspec": {
      "name": "python3",
      "display_name": "Python 3"
    },
    "language_info": {
      "name": "python"
    }
  },
  "cells": [
    {
      "cell_type": "markdown",
      "metadata": {
        "id": "view-in-github",
        "colab_type": "text"
      },
      "source": [
        "<a href=\"https://colab.research.google.com/github/sairatnamukta/Exception_handling/blob/main/Exception_handling.ipynb\" target=\"_parent\"><img src=\"https://colab.research.google.com/assets/colab-badge.svg\" alt=\"Open In Colab\"/></a>"
      ]
    },
    {
      "cell_type": "code",
      "execution_count": null,
      "metadata": {
        "id": "EKAeQnR7jsGF"
      },
      "outputs": [],
      "source": [
        "if :\n",
        "  <logic>\n",
        "else if exception :\n",
        "  <logic2>\n"
      ]
    },
    {
      "cell_type": "code",
      "source": [
        "def Sumo(a,b):\n",
        "  try:\n",
        "   return  a+b\n",
        "  except Exception as e :\n",
        "    return int(a)+int(b)\n",
        "Sumo(1,'2')"
      ],
      "metadata": {
        "colab": {
          "base_uri": "https://localhost:8080/"
        },
        "id": "Z37FeisPj2tD",
        "outputId": "eeeefa1b-3c3e-40af-e099-cf24713ed316"
      },
      "execution_count": 5,
      "outputs": [
        {
          "output_type": "execute_result",
          "data": {
            "text/plain": [
              "3"
            ]
          },
          "metadata": {},
          "execution_count": 5
        }
      ]
    },
    {
      "cell_type": "code",
      "source": [
        "class vehicle():\n",
        "\n",
        "  def __init__(self,make,model,fuel):\n",
        "      self.make=make\n",
        "      self.model=model\n",
        "      self.fuel=fuel\n",
        "\n",
        "  def get_value(self):\n",
        "    age=2022\n",
        "    try:\n",
        "      b=age-self.model\n",
        "      return  (1/b)*1000\n",
        "    except Exception as e :\n",
        "      print(\"the exception is \\'{}\\'\".format(e))\n",
        "      return 1000\n"
      ],
      "metadata": {
        "id": "IQQGHAWrnnkK"
      },
      "execution_count": 13,
      "outputs": []
    },
    {
      "cell_type": "code",
      "source": [
        "v=vehicle(\"tesla\",2022,\"petrol\")\n",
        "v.get_value()"
      ],
      "metadata": {
        "colab": {
          "base_uri": "https://localhost:8080/"
        },
        "id": "5ztJygHrnnvD",
        "outputId": "ea7d02fe-2840-43d5-fd87-9af28ba667a4"
      },
      "execution_count": 14,
      "outputs": [
        {
          "output_type": "stream",
          "name": "stdout",
          "text": [
            "the exception is 'division by zero'\n"
          ]
        },
        {
          "output_type": "execute_result",
          "data": {
            "text/plain": [
              "1000"
            ]
          },
          "metadata": {},
          "execution_count": 14
        }
      ]
    },
    {
      "cell_type": "markdown",
      "source": [
        "important one if exceptin is not present in except as mentioned it will show up exception error first\n"
      ],
      "metadata": {
        "id": "8tbaQyQEqtfQ"
      }
    },
    {
      "cell_type": "code",
      "source": [
        "try:\n",
        "    a = 10\n",
        "    b = 0\n",
        "    c = a/b\n",
        "    print(c)\n",
        "except ValueError:\n",
        "    print('Exception occured')"
      ],
      "metadata": {
        "colab": {
          "base_uri": "https://localhost:8080/",
          "height": 235
        },
        "id": "ar-FoDYEpu7z",
        "outputId": "126bd9e3-4f68-4082-e577-d5010c53aac2"
      },
      "execution_count": 16,
      "outputs": [
        {
          "output_type": "error",
          "ename": "ZeroDivisionError",
          "evalue": "ignored",
          "traceback": [
            "\u001b[0;31m---------------------------------------------------------------------------\u001b[0m",
            "\u001b[0;31mZeroDivisionError\u001b[0m                         Traceback (most recent call last)",
            "\u001b[0;32m<ipython-input-16-a851de787dfb>\u001b[0m in \u001b[0;36m<module>\u001b[0;34m\u001b[0m\n\u001b[1;32m      2\u001b[0m     \u001b[0ma\u001b[0m \u001b[0;34m=\u001b[0m \u001b[0;36m10\u001b[0m\u001b[0;34m\u001b[0m\u001b[0;34m\u001b[0m\u001b[0m\n\u001b[1;32m      3\u001b[0m     \u001b[0mb\u001b[0m \u001b[0;34m=\u001b[0m \u001b[0;36m0\u001b[0m\u001b[0;34m\u001b[0m\u001b[0;34m\u001b[0m\u001b[0m\n\u001b[0;32m----> 4\u001b[0;31m     \u001b[0mc\u001b[0m \u001b[0;34m=\u001b[0m \u001b[0ma\u001b[0m\u001b[0;34m/\u001b[0m\u001b[0mb\u001b[0m\u001b[0;34m\u001b[0m\u001b[0;34m\u001b[0m\u001b[0m\n\u001b[0m\u001b[1;32m      5\u001b[0m     \u001b[0mprint\u001b[0m\u001b[0;34m(\u001b[0m\u001b[0mc\u001b[0m\u001b[0;34m)\u001b[0m\u001b[0;34m\u001b[0m\u001b[0;34m\u001b[0m\u001b[0m\n\u001b[1;32m      6\u001b[0m \u001b[0;32mexcept\u001b[0m \u001b[0mValueError\u001b[0m\u001b[0;34m:\u001b[0m\u001b[0;34m\u001b[0m\u001b[0;34m\u001b[0m\u001b[0m\n",
            "\u001b[0;31mZeroDivisionError\u001b[0m: division by zero"
          ]
        }
      ]
    },
    {
      "cell_type": "code",
      "source": [
        "try:\n",
        "    a = 10\n",
        "    b = 0\n",
        "    c = a/b\n",
        "    print(c)\n",
        "except :\n",
        "    print('Exception occured')"
      ],
      "metadata": {
        "colab": {
          "base_uri": "https://localhost:8080/"
        },
        "id": "FsQ2T56Xp-x1",
        "outputId": "967e62b7-188a-47a2-a5b8-3480a2f8a292"
      },
      "execution_count": 18,
      "outputs": [
        {
          "output_type": "stream",
          "name": "stdout",
          "text": [
            "Exception occured\n"
          ]
        }
      ]
    },
    {
      "cell_type": "code",
      "source": [],
      "metadata": {
        "id": "DA6LqWmdqCE6"
      },
      "execution_count": null,
      "outputs": []
    }
  ]
}