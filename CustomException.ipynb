{
  "nbformat": 4,
  "nbformat_minor": 0,
  "metadata": {
    "colab": {
      "provenance": [],
      "authorship_tag": "ABX9TyPjfB/3Iwgz0WbI104Q/r2y",
      "include_colab_link": true
    },
    "kernelspec": {
      "name": "python3",
      "display_name": "Python 3"
    },
    "language_info": {
      "name": "python"
    }
  },
  "cells": [
    {
      "cell_type": "markdown",
      "metadata": {
        "id": "view-in-github",
        "colab_type": "text"
      },
      "source": [
        "<a href=\"https://colab.research.google.com/github/sairatnamukta/Exception_handling/blob/main/CustomException.ipynb\" target=\"_parent\"><img src=\"https://colab.research.google.com/assets/colab-badge.svg\" alt=\"Open In Colab\"/></a>"
      ]
    },
    {
      "cell_type": "code",
      "execution_count": null,
      "metadata": {
        "id": "bNM_1K_8I8hT"
      },
      "outputs": [],
      "source": [
        "class Negativecarvalue (Exception):\n",
        "  def __init__(self,value,message=\"car value cant be negative\"):\n",
        "    self.value=value\n",
        "    self.message=message\n",
        "  \n",
        "\n",
        "  def __str__(self):\n",
        "    return f'{self.message} ---> {self.value}'\n",
        "\n"
      ]
    },
    {
      "cell_type": "markdown",
      "source": [
        "To execute our exception we need to raise it by giving the condition."
      ],
      "metadata": {
        "id": "g23nlwmCJmRQ"
      }
    },
    {
      "cell_type": "code",
      "source": [
        "a=-1\n",
        "if a<0:\n",
        "  raise Negativecarvalue(a)"
      ],
      "metadata": {
        "colab": {
          "base_uri": "https://localhost:8080/",
          "height": 201
        },
        "id": "JfTAuaFhJczh",
        "outputId": "0ce19923-8fc0-4366-b4b4-8fc191de9fac"
      },
      "execution_count": null,
      "outputs": [
        {
          "output_type": "error",
          "ename": "Negativecarvalue",
          "evalue": "ignored",
          "traceback": [
            "\u001b[0;31m---------------------------------------------------------------------------\u001b[0m",
            "\u001b[0;31mNegativecarvalue\u001b[0m                          Traceback (most recent call last)",
            "\u001b[0;32m<ipython-input-2-974546c222fd>\u001b[0m in \u001b[0;36m<module>\u001b[0;34m\u001b[0m\n\u001b[1;32m      1\u001b[0m \u001b[0ma\u001b[0m\u001b[0;34m=\u001b[0m\u001b[0;34m-\u001b[0m\u001b[0;36m1\u001b[0m\u001b[0;34m\u001b[0m\u001b[0;34m\u001b[0m\u001b[0m\n\u001b[1;32m      2\u001b[0m \u001b[0;32mif\u001b[0m \u001b[0ma\u001b[0m\u001b[0;34m<\u001b[0m\u001b[0;36m0\u001b[0m\u001b[0;34m:\u001b[0m\u001b[0;34m\u001b[0m\u001b[0;34m\u001b[0m\u001b[0m\n\u001b[0;32m----> 3\u001b[0;31m   \u001b[0;32mraise\u001b[0m \u001b[0mNegativecarvalue\u001b[0m\u001b[0;34m(\u001b[0m\u001b[0ma\u001b[0m\u001b[0;34m)\u001b[0m\u001b[0;34m\u001b[0m\u001b[0;34m\u001b[0m\u001b[0m\n\u001b[0m",
            "\u001b[0;31mNegativecarvalue\u001b[0m: car value cant be negative ---> -1"
          ]
        }
      ]
    },
    {
      "cell_type": "code",
      "source": [
        "class vehicle :\n",
        "    def __init__(self,make,model,fuel):\n",
        "      self.make=make\n",
        "      self.model=model\n",
        "      self.fuel=fuel\n",
        "\n",
        "    def get_value(self):\n",
        "      self.year=2022\n",
        "      age=self.year-self.make\n",
        "      if age<0:\n",
        "        raise Negativecarvalue(age)\n",
        "      else:\n",
        "        return 1000*age\n"
      ],
      "metadata": {
        "id": "sInbmX6tJdAz"
      },
      "execution_count": null,
      "outputs": []
    },
    {
      "cell_type": "code",
      "source": [
        "v=vehicle(2025,\"tesla\",\"petrol\")\n",
        "v.get_value()"
      ],
      "metadata": {
        "colab": {
          "base_uri": "https://localhost:8080/",
          "height": 305
        },
        "id": "9VD0OIEpKWNN",
        "outputId": "0523f53e-9d66-43e7-a3b2-3050be861507"
      },
      "execution_count": null,
      "outputs": [
        {
          "output_type": "error",
          "ename": "Negativecarvalue",
          "evalue": "ignored",
          "traceback": [
            "\u001b[0;31m---------------------------------------------------------------------------\u001b[0m",
            "\u001b[0;31mNegativecarvalue\u001b[0m                          Traceback (most recent call last)",
            "\u001b[0;32m<ipython-input-6-93b91a8997e7>\u001b[0m in \u001b[0;36m<module>\u001b[0;34m\u001b[0m\n\u001b[1;32m      1\u001b[0m \u001b[0mv\u001b[0m\u001b[0;34m=\u001b[0m\u001b[0mvehicle\u001b[0m\u001b[0;34m(\u001b[0m\u001b[0;36m2025\u001b[0m\u001b[0;34m,\u001b[0m\u001b[0;34m\"tesla\"\u001b[0m\u001b[0;34m,\u001b[0m\u001b[0;34m\"petrol\"\u001b[0m\u001b[0;34m)\u001b[0m\u001b[0;34m\u001b[0m\u001b[0;34m\u001b[0m\u001b[0m\n\u001b[0;32m----> 2\u001b[0;31m \u001b[0mv\u001b[0m\u001b[0;34m.\u001b[0m\u001b[0mget_value\u001b[0m\u001b[0;34m(\u001b[0m\u001b[0;34m)\u001b[0m\u001b[0;34m\u001b[0m\u001b[0;34m\u001b[0m\u001b[0m\n\u001b[0m",
            "\u001b[0;32m<ipython-input-5-e25ed02a70f6>\u001b[0m in \u001b[0;36mget_value\u001b[0;34m(self)\u001b[0m\n\u001b[1;32m      9\u001b[0m       \u001b[0mage\u001b[0m\u001b[0;34m=\u001b[0m\u001b[0mself\u001b[0m\u001b[0;34m.\u001b[0m\u001b[0myear\u001b[0m\u001b[0;34m-\u001b[0m\u001b[0mself\u001b[0m\u001b[0;34m.\u001b[0m\u001b[0mmake\u001b[0m\u001b[0;34m\u001b[0m\u001b[0;34m\u001b[0m\u001b[0m\n\u001b[1;32m     10\u001b[0m       \u001b[0;32mif\u001b[0m \u001b[0mage\u001b[0m\u001b[0;34m<\u001b[0m\u001b[0;36m0\u001b[0m\u001b[0;34m:\u001b[0m\u001b[0;34m\u001b[0m\u001b[0;34m\u001b[0m\u001b[0m\n\u001b[0;32m---> 11\u001b[0;31m         \u001b[0;32mraise\u001b[0m \u001b[0mNegativecarvalue\u001b[0m\u001b[0;34m(\u001b[0m\u001b[0mage\u001b[0m\u001b[0;34m)\u001b[0m\u001b[0;34m\u001b[0m\u001b[0;34m\u001b[0m\u001b[0m\n\u001b[0m\u001b[1;32m     12\u001b[0m       \u001b[0;32melse\u001b[0m\u001b[0;34m:\u001b[0m\u001b[0;34m\u001b[0m\u001b[0;34m\u001b[0m\u001b[0m\n\u001b[1;32m     13\u001b[0m         \u001b[0;32mreturn\u001b[0m \u001b[0;36m1000\u001b[0m\u001b[0;34m*\u001b[0m\u001b[0mage\u001b[0m\u001b[0;34m\u001b[0m\u001b[0;34m\u001b[0m\u001b[0m\n",
            "\u001b[0;31mNegativecarvalue\u001b[0m: car value cant be negative ---> -3"
          ]
        }
      ]
    },
    {
      "cell_type": "markdown",
      "source": [
        "Must try problem even though there is no init and str function excetion is printed"
      ],
      "metadata": {
        "id": "ax40_R9xLEcE"
      }
    },
    {
      "cell_type": "code",
      "source": [
        "class ZeroDenominatorError(Exception):\n",
        "    pass\n",
        "try:\n",
        "    a = 10\n",
        "    b = 0\n",
        "    if(b==0):\n",
        "        raise ZeroDenominatorError() \n",
        "    c = a/b\n",
        "except ZeroDivisionError:\n",
        "    print('Zero Division Error occured')"
      ],
      "metadata": {
        "colab": {
          "base_uri": "https://localhost:8080/",
          "height": 235
        },
        "id": "5wx5X0vfKk9A",
        "outputId": "fed41029-fddf-4d8c-cad9-dafdc53e7e03"
      },
      "execution_count": null,
      "outputs": [
        {
          "output_type": "error",
          "ename": "ZeroDenominatorError",
          "evalue": "ignored",
          "traceback": [
            "\u001b[0;31m---------------------------------------------------------------------------\u001b[0m",
            "\u001b[0;31mZeroDenominatorError\u001b[0m                      Traceback (most recent call last)",
            "\u001b[0;32m<ipython-input-7-c9ebb5ac2a06>\u001b[0m in \u001b[0;36m<module>\u001b[0;34m\u001b[0m\n\u001b[1;32m      5\u001b[0m     \u001b[0mb\u001b[0m \u001b[0;34m=\u001b[0m \u001b[0;36m0\u001b[0m\u001b[0;34m\u001b[0m\u001b[0;34m\u001b[0m\u001b[0m\n\u001b[1;32m      6\u001b[0m     \u001b[0;32mif\u001b[0m\u001b[0;34m(\u001b[0m\u001b[0mb\u001b[0m\u001b[0;34m==\u001b[0m\u001b[0;36m0\u001b[0m\u001b[0;34m)\u001b[0m\u001b[0;34m:\u001b[0m\u001b[0;34m\u001b[0m\u001b[0;34m\u001b[0m\u001b[0m\n\u001b[0;32m----> 7\u001b[0;31m         \u001b[0;32mraise\u001b[0m \u001b[0mZeroDenominatorError\u001b[0m\u001b[0;34m(\u001b[0m\u001b[0;34m)\u001b[0m\u001b[0;34m\u001b[0m\u001b[0;34m\u001b[0m\u001b[0m\n\u001b[0m\u001b[1;32m      8\u001b[0m     \u001b[0mc\u001b[0m \u001b[0;34m=\u001b[0m \u001b[0ma\u001b[0m\u001b[0;34m/\u001b[0m\u001b[0mb\u001b[0m\u001b[0;34m\u001b[0m\u001b[0;34m\u001b[0m\u001b[0m\n\u001b[1;32m      9\u001b[0m \u001b[0;32mexcept\u001b[0m \u001b[0mZeroDivisionError\u001b[0m\u001b[0;34m:\u001b[0m\u001b[0;34m\u001b[0m\u001b[0;34m\u001b[0m\u001b[0m\n",
            "\u001b[0;31mZeroDenominatorError\u001b[0m: "
          ]
        }
      ]
    },
    {
      "cell_type": "code",
      "source": [
        "class ZeroDenominatorError(ZeroDivisionError):\n",
        "    pass\n",
        "try:\n",
        "    a = 10\n",
        "    b = 0\n",
        "    if(b==0):\n",
        "        raise ZeroDenominatorError()\n",
        "    c = a/b\n",
        "except ZeroDivisionError:\n",
        "    print('Zero Division Error occured')\n",
        "except ZeroDenominatorError:\n",
        "    print('Zero Denominator Error occured')"
      ],
      "metadata": {
        "colab": {
          "base_uri": "https://localhost:8080/"
        },
        "id": "Jy_QOnlcr_5D",
        "outputId": "e56a68d7-03b7-4339-a214-731eb3bbb7e2"
      },
      "execution_count": 1,
      "outputs": [
        {
          "output_type": "stream",
          "name": "stdout",
          "text": [
            "Zero Division Error occured\n"
          ]
        }
      ]
    }
  ]
}