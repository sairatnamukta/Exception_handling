{
  "nbformat": 4,
  "nbformat_minor": 0,
  "metadata": {
    "colab": {
      "provenance": [],
      "authorship_tag": "ABX9TyO/aOmFzWsXAR41iguIrFCl",
      "include_colab_link": true
    },
    "kernelspec": {
      "name": "python3",
      "display_name": "Python 3"
    },
    "language_info": {
      "name": "python"
    }
  },
  "cells": [
    {
      "cell_type": "markdown",
      "metadata": {
        "id": "view-in-github",
        "colab_type": "text"
      },
      "source": [
        "<a href=\"https://colab.research.google.com/github/sairatnamukta/Exception_handling/blob/main/Multiple_exception.ipynb\" target=\"_parent\"><img src=\"https://colab.research.google.com/assets/colab-badge.svg\" alt=\"Open In Colab\"/></a>"
      ]
    },
    {
      "cell_type": "markdown",
      "source": [
        "Handling exception under an exception.Even it is type error it can give zero division error. And zero division error and still it can be a string with int base 10 so we can give except at end print wring input"
      ],
      "metadata": {
        "id": "19beDrm9LnaL"
      }
    },
    {
      "cell_type": "code",
      "execution_count": 9,
      "metadata": {
        "id": "DJvW8TJzJFWa"
      },
      "outputs": [],
      "source": [
        "class vehicle :\n",
        "  def __init__(self,make,model,fuel):\n",
        "    self.make=make\n",
        "    self.model=model\n",
        "    self.fuel=fuel\n",
        "\n",
        "  def get_value(self):\n",
        "    try:\n",
        "      age=2022-self.model\n",
        "      value = 1000*(1/age)\n",
        "    except ZeroDivisionError :\n",
        "      return 1000\n",
        "    except TypeError :\n",
        "      try:\n",
        "          age = 2022 - int(self.model)\n",
        "          return 1000*(1/age)\n",
        "      \n",
        "      except ZeroDivisionError :\n",
        "            return 1000\n",
        "      except : \n",
        "           return \"wrong model ypu have given\""
      ]
    },
    {
      "cell_type": "code",
      "source": [
        "v=vehicle(\"tesla\",2022,\"petrol\")\n",
        "v.get_value()"
      ],
      "metadata": {
        "colab": {
          "base_uri": "https://localhost:8080/"
        },
        "id": "YHut59DhKiGU",
        "outputId": "27a76c45-5033-4b4b-e5ba-d231c7f3a309"
      },
      "execution_count": 10,
      "outputs": [
        {
          "output_type": "execute_result",
          "data": {
            "text/plain": [
              "1000"
            ]
          },
          "metadata": {},
          "execution_count": 10
        }
      ]
    }
  ]
}